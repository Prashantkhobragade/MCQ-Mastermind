{
 "cells": [
  {
   "cell_type": "code",
   "execution_count": 1,
   "metadata": {},
   "outputs": [],
   "source": [
    "import os\n",
    "import json\n",
    "import pandas as pd \n",
    "import traceback\n"
   ]
  },
  {
   "cell_type": "code",
   "execution_count": 2,
   "metadata": {},
   "outputs": [],
   "source": [
    "from langchain.chat_models import ChatOpenAI"
   ]
  },
  {
   "cell_type": "code",
   "execution_count": 5,
   "metadata": {},
   "outputs": [],
   "source": [
    "from dotenv import load_dotenv\n",
    "\n",
    "load_dotenv()\n",
    "\n",
    "KEY = os.getenv(\"OPENAI_API_KEY\")"
   ]
  },
  {
   "cell_type": "code",
   "execution_count": 7,
   "metadata": {},
   "outputs": [],
   "source": [
    "llm = ChatOpenAI(openai_api_key = KEY,\n",
    "                 model_name ='gpt-3.5-turbo',\n",
    "                 temperature=0.5)"
   ]
  },
  {
   "cell_type": "code",
   "execution_count": 8,
   "metadata": {},
   "outputs": [],
   "source": [
    "from langchain.llms import OpenAI\n",
    "from langchain.prompts import PromptTemplate\n",
    "from langchain.chains import LLMChain,SequentialChain\n",
    "from langchain.callbacks import get_openai_callback\n",
    "import PyPDF2"
   ]
  },
  {
   "cell_type": "code",
   "execution_count": 9,
   "metadata": {},
   "outputs": [],
   "source": [
    "RESPONSE_JSON = {\n",
    "    \"1\": {\n",
    "        \"mcq\": \"multiple choice question\",\n",
    "        \"options\": {\n",
    "            \"a\": \"choice here\",\n",
    "            \"b\": \"choice here\",\n",
    "            \"c\": \"choice here\",\n",
    "            \"d\": \"choice here\",\n",
    "        },\n",
    "        \"correct\": \"correct answer\",\n",
    "    },\n",
    "    \"2\": {\n",
    "        \"mcq\": \"multiple choice question\",\n",
    "        \"options\": {\n",
    "            \"a\": \"choice here\",\n",
    "            \"b\": \"choice here\",\n",
    "            \"c\": \"choice here\",\n",
    "            \"d\": \"choice here\",\n",
    "        },\n",
    "        \"correct\": \"correct answer\",\n",
    "    },\n",
    "    \"3\": {\n",
    "        \"mcq\": \"multiple choice question\",\n",
    "        \"options\": {\n",
    "            \"a\": \"choice here\",\n",
    "            \"b\": \"choice here\",\n",
    "            \"c\": \"choice here\",\n",
    "            \"d\": \"choice here\",\n",
    "        },\n",
    "        \"correct\": \"correct answer\",\n",
    "    },\n",
    "}"
   ]
  },
  {
   "cell_type": "code",
   "execution_count": 19,
   "metadata": {},
   "outputs": [],
   "source": [
    "TEMPLATE=\"\"\"\n",
    "Text:{text}\n",
    "You are an expert MCQ maker. Given the above text, it is your job to \\\n",
    "create a quize of {number} multiple choice questions for {subject} students in {tone} tone.\n",
    "Make sure the questions are not repeated and check all the questions to be conforming the text as well.\n",
    "Make sure to format your response like RESPONSE_JSON below and use it as a guide. \\\n",
    "Ensure to make {number} MCQs\n",
    "### RESPONSE_JSON\n",
    "{response_json}\n",
    "\"\"\""
   ]
  },
  {
   "cell_type": "code",
   "execution_count": 20,
   "metadata": {},
   "outputs": [],
   "source": [
    "quiz_generation_prompt = PromptTemplate(\n",
    "    input_variables=[\"text\", \"number\", \"subject\", \"tone\", \"response_json\"],\n",
    "    template=TEMPLATE\n",
    ")"
   ]
  },
  {
   "cell_type": "code",
   "execution_count": 21,
   "metadata": {},
   "outputs": [],
   "source": [
    "quiz_chain = LLMChain(llm=llm,\n",
    "                      prompt=quiz_generation_prompt,\n",
    "                      output_key=\"quiz\",\n",
    "                      verbose=True)"
   ]
  },
  {
   "cell_type": "code",
   "execution_count": 22,
   "metadata": {},
   "outputs": [],
   "source": [
    "TEMPLATE2=\"\"\"\n",
    "You are an expert english grammarian and writer. Given a Multiple Choice Quiz for {subject} students.\\\n",
    "You need to evaluate the complexity of the question and give a complete analysis of the quiz. Only use at max 50 words for complexity analysis. \n",
    "if the quiz is not at per with the cognitive and analytical abilities of the students,\\\n",
    "update the quiz questions which needs to be changed and change the tone such that it perfectly fits the student abilities\n",
    "Quiz_MCQs:\n",
    "{quiz}\n",
    "\n",
    "Check from an expert English Writer of the above quiz:\n",
    "\"\"\""
   ]
  },
  {
   "cell_type": "code",
   "execution_count": 23,
   "metadata": {},
   "outputs": [],
   "source": [
    "quiz_evaluation_prompt = PromptTemplate(\n",
    "    input_variables=[\"subject\", \"quiz\"],\n",
    "    template=TEMPLATE2\n",
    ")"
   ]
  },
  {
   "cell_type": "code",
   "execution_count": 24,
   "metadata": {},
   "outputs": [],
   "source": [
    "review_chain = LLMChain(\n",
    "    llm=llm,\n",
    "    prompt=quiz_evaluation_prompt,\n",
    "    output_key=\"review\",\n",
    "    verbose=True\n",
    ")"
   ]
  },
  {
   "cell_type": "code",
   "execution_count": 25,
   "metadata": {},
   "outputs": [],
   "source": [
    "generator_evaluate_chain = SequentialChain(\n",
    "    chains=[quiz_chain, review_chain],\n",
    "    input_variables=[\"text\", \"number\", \"subject\", \"tone\", \"response_json\"],\n",
    "    output_variables=[\"quiz\", \"review\"],\n",
    "    verbose=True\n",
    ")"
   ]
  },
  {
   "cell_type": "code",
   "execution_count": 26,
   "metadata": {},
   "outputs": [],
   "source": [
    "file_path = r\"D:\\project\\QnA_Generator\\data.txt\""
   ]
  },
  {
   "cell_type": "code",
   "execution_count": 27,
   "metadata": {},
   "outputs": [],
   "source": [
    "with open(file_path, 'r') as file:\n",
    "    TEXT = file.read()\n",
    "    "
   ]
  },
  {
   "cell_type": "code",
   "execution_count": 28,
   "metadata": {},
   "outputs": [
    {
     "name": "stdout",
     "output_type": "stream",
     "text": [
      "\n",
      "Shantanu, the king of Hastinapur, was married to Ganga (personification of the Ganges) with whom he had a son called Devavrat. Several years later, \n",
      "when Devavrat had grown up to be an accomplished prince, Shantanu fell in love with Satyavati. Her father refused to let her marry the king unless \n",
      "the king promised that Satyavati's son and descendants would inherit the throne. Unwilling to deny Devavrat his rights, Shantanu declined to do so but\n",
      "the prince, on coming to know of the matter, rode over to Satyavati's house, vowed to renounce the throne and to remain celibate throughout his \n",
      "life. The prince then took Satyavati home to the palace so that the king, his father, could marry her. On account of the terrible vow that he'd \n",
      "taken that day, Devavrat came to be known as Bheeshm. Shantanu was so pleased with his son that he granted to Devavrat the boon of choosing the \n",
      "time of his own death.\n",
      "\n",
      "In time, Shantanu and Satyavati had two sons. Soon thereafter, Shantanu died. Satyavati's sons still being minors, the affairs of the kingdom \n",
      "were managed by Bheeshm and Satyavati. By the time these sons reached adulthood, the elder one had died in a skirmish with some gandharvas \n",
      "(heavenly beings) so the younger son, Vichitravirya, was enthroned. Bheeshm then abducted the three princesses of a neighbouring kingdom and \n",
      "brought them over to Hastinapur to be wedded to Vichitravirya. The eldest of these princesses declared that she was in love with someone else, \n",
      "so she was let go; the two other princesses were married to Vichitravirya who died soon afterwards, childless.\n"
     ]
    }
   ],
   "source": [
    "print(TEXT)"
   ]
  },
  {
   "cell_type": "code",
   "execution_count": 29,
   "metadata": {},
   "outputs": [
    {
     "data": {
      "text/plain": [
       "'{\"1\": {\"mcq\": \"multiple choice question\", \"options\": {\"a\": \"choice here\", \"b\": \"choice here\", \"c\": \"choice here\", \"d\": \"choice here\"}, \"correct\": \"correct answer\"}, \"2\": {\"mcq\": \"multiple choice question\", \"options\": {\"a\": \"choice here\", \"b\": \"choice here\", \"c\": \"choice here\", \"d\": \"choice here\"}, \"correct\": \"correct answer\"}, \"3\": {\"mcq\": \"multiple choice question\", \"options\": {\"a\": \"choice here\", \"b\": \"choice here\", \"c\": \"choice here\", \"d\": \"choice here\"}, \"correct\": \"correct answer\"}}'"
      ]
     },
     "execution_count": 29,
     "metadata": {},
     "output_type": "execute_result"
    }
   ],
   "source": [
    "#serlialize the python dictonary into a JSON formated string\n",
    "json.dumps(RESPONSE_JSON)"
   ]
  },
  {
   "cell_type": "code",
   "execution_count": 32,
   "metadata": {},
   "outputs": [],
   "source": [
    "NUMBER = 5\n",
    "SUBJECT = \"MAHABHARAT\"\n",
    "TONE = \"simple\""
   ]
  },
  {
   "cell_type": "code",
   "execution_count": 33,
   "metadata": {},
   "outputs": [
    {
     "name": "stdout",
     "output_type": "stream",
     "text": [
      "\n",
      "\n",
      "\u001b[1m> Entering new SequentialChain chain...\u001b[0m\n",
      "\n",
      "\n",
      "\u001b[1m> Entering new LLMChain chain...\u001b[0m\n",
      "Prompt after formatting:\n",
      "\u001b[32;1m\u001b[1;3m\n",
      "Text:\n",
      "Shantanu, the king of Hastinapur, was married to Ganga (personification of the Ganges) with whom he had a son called Devavrat. Several years later, \n",
      "when Devavrat had grown up to be an accomplished prince, Shantanu fell in love with Satyavati. Her father refused to let her marry the king unless \n",
      "the king promised that Satyavati's son and descendants would inherit the throne. Unwilling to deny Devavrat his rights, Shantanu declined to do so but\n",
      "the prince, on coming to know of the matter, rode over to Satyavati's house, vowed to renounce the throne and to remain celibate throughout his \n",
      "life. The prince then took Satyavati home to the palace so that the king, his father, could marry her. On account of the terrible vow that he'd \n",
      "taken that day, Devavrat came to be known as Bheeshm. Shantanu was so pleased with his son that he granted to Devavrat the boon of choosing the \n",
      "time of his own death.\n",
      "\n",
      "In time, Shantanu and Satyavati had two sons. Soon thereafter, Shantanu died. Satyavati's sons still being minors, the affairs of the kingdom \n",
      "were managed by Bheeshm and Satyavati. By the time these sons reached adulthood, the elder one had died in a skirmish with some gandharvas \n",
      "(heavenly beings) so the younger son, Vichitravirya, was enthroned. Bheeshm then abducted the three princesses of a neighbouring kingdom and \n",
      "brought them over to Hastinapur to be wedded to Vichitravirya. The eldest of these princesses declared that she was in love with someone else, \n",
      "so she was let go; the two other princesses were married to Vichitravirya who died soon afterwards, childless.\n",
      "You are an expert MCQ maker. Given the above text, it is your job to create a quize of 5 multiple choice questions for MAHABHARAT students in simple tone.\n",
      "Make sure the questions are not repeated and check all the questions to be conforming the text as well.\n",
      "Make sure to format your response like RESPONSE_JSON below and use it as a guide. Ensure to make 5 MCQs\n",
      "### RESPONSE_JSON\n",
      "{\"1\": {\"mcq\": \"multiple choice question\", \"options\": {\"a\": \"choice here\", \"b\": \"choice here\", \"c\": \"choice here\", \"d\": \"choice here\"}, \"correct\": \"correct answer\"}, \"2\": {\"mcq\": \"multiple choice question\", \"options\": {\"a\": \"choice here\", \"b\": \"choice here\", \"c\": \"choice here\", \"d\": \"choice here\"}, \"correct\": \"correct answer\"}, \"3\": {\"mcq\": \"multiple choice question\", \"options\": {\"a\": \"choice here\", \"b\": \"choice here\", \"c\": \"choice here\", \"d\": \"choice here\"}, \"correct\": \"correct answer\"}}\n",
      "\u001b[0m\n",
      "\n",
      "\u001b[1m> Finished chain.\u001b[0m\n",
      "\n",
      "\n",
      "\u001b[1m> Entering new LLMChain chain...\u001b[0m\n",
      "Prompt after formatting:\n",
      "\u001b[32;1m\u001b[1;3m\n",
      "You are an expert english grammarian and writer. Given a Multiple Choice Quiz for MAHABHARAT students.You need to evaluate the complexity of the question and give a complete analysis of the quiz. Only use at max 50 words for complexity analysis. \n",
      "if the quiz is not at per with the cognitive and analytical abilities of the students,update the quiz questions which needs to be changed and change the tone such that it perfectly fits the student abilities\n",
      "Quiz_MCQs:\n",
      "{\"1\": {\"mcq\": \"Who was Shantanu married to?\", \"options\": {\"a\": \"Ganga\", \"b\": \"Satyavati\", \"c\": \"Devavrat\", \"d\": \"Vichitravirya\"}, \"correct\": \"a\"}, \n",
      "\"2\": {\"mcq\": \"Why did Shantanu decline to promise Satyavati's father?\", \"options\": {\"a\": \"He didn't love Satyavati\", \"b\": \"He didn't want Devavrat to inherit the throne\", \"c\": \"He wanted to marry someone else\", \"d\": \"He wanted to remain celibate\"}, \"correct\": \"b\"}, \n",
      "\"3\": {\"mcq\": \"What was Devavrat's vow?\", \"options\": {\"a\": \"To renounce the throne\", \"b\": \"To remain celibate\", \"c\": \"Both a and b\", \"d\": \"None of the above\"}, \"correct\": \"c\"}, \n",
      "\"4\": {\"mcq\": \"Who did Shantanu marry after Devavrat's vow?\", \"options\": {\"a\": \"Ganga\", \"b\": \"Satyavati\", \"c\": \"Devavrat\", \"d\": \"Vichitravirya\"}, \"correct\": \"b\"}, \n",
      "\"5\": {\"mcq\": \"How did Devavrat come to be known as Bheeshm?\", \"options\": {\"a\": \"By renouncing the throne\", \"b\": \"By remaining celibate\", \"c\": \"By marrying Satyavati\", \"d\": \"By granting his own death\"}, \"correct\": \"a\"}}\n",
      "\n",
      "Check from an expert English Writer of the above quiz:\n",
      "\u001b[0m\n",
      "\n",
      "\u001b[1m> Finished chain.\u001b[0m\n",
      "\n",
      "\u001b[1m> Finished chain.\u001b[0m\n"
     ]
    }
   ],
   "source": [
    "#how to setup Token Usage Tracking in Langchain\n",
    "with get_openai_callback() as cb:\n",
    "    response = generator_evaluate_chain(\n",
    "        {\n",
    "            \"text\": TEXT,\n",
    "            \"number\": NUMBER,\n",
    "            \"subject\" : SUBJECT,\n",
    "            \"tone\": TONE,\n",
    "            \"response_json\": json.dumps(RESPONSE_JSON)\n",
    "        }\n",
    "    )"
   ]
  },
  {
   "cell_type": "code",
   "execution_count": 34,
   "metadata": {},
   "outputs": [
    {
     "name": "stdout",
     "output_type": "stream",
     "text": [
      "total tokens:1513\n",
      "Prompt tokens:1123\n",
      "completion tokens:390\n",
      "total cost:0.0024644999999999997\n"
     ]
    }
   ],
   "source": [
    "print(f\"total tokens:{cb.total_tokens}\")\n",
    "print(f\"Prompt tokens:{cb.prompt_tokens}\")\n",
    "print(f\"completion tokens:{cb.completion_tokens}\")\n",
    "print(f\"total cost:{cb.total_cost}\")"
   ]
  },
  {
   "cell_type": "code",
   "execution_count": 35,
   "metadata": {},
   "outputs": [
    {
     "data": {
      "text/plain": [
       "{'text': \"\\nShantanu, the king of Hastinapur, was married to Ganga (personification of the Ganges) with whom he had a son called Devavrat. Several years later, \\nwhen Devavrat had grown up to be an accomplished prince, Shantanu fell in love with Satyavati. Her father refused to let her marry the king unless \\nthe king promised that Satyavati's son and descendants would inherit the throne. Unwilling to deny Devavrat his rights, Shantanu declined to do so but\\nthe prince, on coming to know of the matter, rode over to Satyavati's house, vowed to renounce the throne and to remain celibate throughout his \\nlife. The prince then took Satyavati home to the palace so that the king, his father, could marry her. On account of the terrible vow that he'd \\ntaken that day, Devavrat came to be known as Bheeshm. Shantanu was so pleased with his son that he granted to Devavrat the boon of choosing the \\ntime of his own death.\\n\\nIn time, Shantanu and Satyavati had two sons. Soon thereafter, Shantanu died. Satyavati's sons still being minors, the affairs of the kingdom \\nwere managed by Bheeshm and Satyavati. By the time these sons reached adulthood, the elder one had died in a skirmish with some gandharvas \\n(heavenly beings) so the younger son, Vichitravirya, was enthroned. Bheeshm then abducted the three princesses of a neighbouring kingdom and \\nbrought them over to Hastinapur to be wedded to Vichitravirya. The eldest of these princesses declared that she was in love with someone else, \\nso she was let go; the two other princesses were married to Vichitravirya who died soon afterwards, childless.\",\n",
       " 'number': 5,\n",
       " 'subject': 'MAHABHARAT',\n",
       " 'tone': 'simple',\n",
       " 'response_json': '{\"1\": {\"mcq\": \"multiple choice question\", \"options\": {\"a\": \"choice here\", \"b\": \"choice here\", \"c\": \"choice here\", \"d\": \"choice here\"}, \"correct\": \"correct answer\"}, \"2\": {\"mcq\": \"multiple choice question\", \"options\": {\"a\": \"choice here\", \"b\": \"choice here\", \"c\": \"choice here\", \"d\": \"choice here\"}, \"correct\": \"correct answer\"}, \"3\": {\"mcq\": \"multiple choice question\", \"options\": {\"a\": \"choice here\", \"b\": \"choice here\", \"c\": \"choice here\", \"d\": \"choice here\"}, \"correct\": \"correct answer\"}}',\n",
       " 'quiz': '{\"1\": {\"mcq\": \"Who was Shantanu married to?\", \"options\": {\"a\": \"Ganga\", \"b\": \"Satyavati\", \"c\": \"Devavrat\", \"d\": \"Vichitravirya\"}, \"correct\": \"a\"}, \\n\"2\": {\"mcq\": \"Why did Shantanu decline to promise Satyavati\\'s father?\", \"options\": {\"a\": \"He didn\\'t love Satyavati\", \"b\": \"He didn\\'t want Devavrat to inherit the throne\", \"c\": \"He wanted to marry someone else\", \"d\": \"He wanted to remain celibate\"}, \"correct\": \"b\"}, \\n\"3\": {\"mcq\": \"What was Devavrat\\'s vow?\", \"options\": {\"a\": \"To renounce the throne\", \"b\": \"To remain celibate\", \"c\": \"Both a and b\", \"d\": \"None of the above\"}, \"correct\": \"c\"}, \\n\"4\": {\"mcq\": \"Who did Shantanu marry after Devavrat\\'s vow?\", \"options\": {\"a\": \"Ganga\", \"b\": \"Satyavati\", \"c\": \"Devavrat\", \"d\": \"Vichitravirya\"}, \"correct\": \"b\"}, \\n\"5\": {\"mcq\": \"How did Devavrat come to be known as Bheeshm?\", \"options\": {\"a\": \"By renouncing the throne\", \"b\": \"By remaining celibate\", \"c\": \"By marrying Satyavati\", \"d\": \"By granting his own death\"}, \"correct\": \"a\"}}',\n",
       " 'review': \"The complexity of the quiz questions is appropriate for MAHABHARAT students. The questions test knowledge of the characters and events in the story. The tone is suitable for students' abilities. No changes are needed.\"}"
      ]
     },
     "execution_count": 35,
     "metadata": {},
     "output_type": "execute_result"
    }
   ],
   "source": [
    "response"
   ]
  },
  {
   "cell_type": "code",
   "execution_count": 37,
   "metadata": {},
   "outputs": [],
   "source": [
    "quiz = response.get(\"quiz\")"
   ]
  },
  {
   "cell_type": "code",
   "execution_count": 40,
   "metadata": {},
   "outputs": [],
   "source": [
    "quiz = json.loads(quiz)"
   ]
  },
  {
   "cell_type": "code",
   "execution_count": 41,
   "metadata": {},
   "outputs": [],
   "source": [
    "#creating Quiz from the above data\n",
    "quiz_table_data = []\n",
    "for key, value in quiz.items():\n",
    "    mcq = value[\"mcq\"]\n",
    "    options = \" | \".join(\n",
    "        [\n",
    "            f\"{option}: {option_value}\"\n",
    "            for option, option_value in value[\"options\"].items()\n",
    "            ]\n",
    "        )\n",
    "    correct = value[\"correct\"]\n",
    "    quiz_table_data.append({\"MCQ\": mcq, \"Choices\": options, \"Correct\": correct})"
   ]
  },
  {
   "cell_type": "code",
   "execution_count": 42,
   "metadata": {},
   "outputs": [
    {
     "data": {
      "text/plain": [
       "[{'MCQ': 'Who was Shantanu married to?',\n",
       "  'Choices': 'a: Ganga | b: Satyavati | c: Devavrat | d: Vichitravirya',\n",
       "  'Correct': 'a'},\n",
       " {'MCQ': \"Why did Shantanu decline to promise Satyavati's father?\",\n",
       "  'Choices': \"a: He didn't love Satyavati | b: He didn't want Devavrat to inherit the throne | c: He wanted to marry someone else | d: He wanted to remain celibate\",\n",
       "  'Correct': 'b'},\n",
       " {'MCQ': \"What was Devavrat's vow?\",\n",
       "  'Choices': 'a: To renounce the throne | b: To remain celibate | c: Both a and b | d: None of the above',\n",
       "  'Correct': 'c'},\n",
       " {'MCQ': \"Who did Shantanu marry after Devavrat's vow?\",\n",
       "  'Choices': 'a: Ganga | b: Satyavati | c: Devavrat | d: Vichitravirya',\n",
       "  'Correct': 'b'},\n",
       " {'MCQ': 'How did Devavrat come to be known as Bheeshm?',\n",
       "  'Choices': 'a: By renouncing the throne | b: By remaining celibate | c: By marrying Satyavati | d: By granting his own death',\n",
       "  'Correct': 'a'}]"
      ]
     },
     "execution_count": 42,
     "metadata": {},
     "output_type": "execute_result"
    }
   ],
   "source": [
    "quiz_table_data"
   ]
  },
  {
   "cell_type": "code",
   "execution_count": 44,
   "metadata": {},
   "outputs": [],
   "source": [
    "quiz_df = pd.DataFrame(quiz_table_data)"
   ]
  },
  {
   "cell_type": "code",
   "execution_count": 45,
   "metadata": {},
   "outputs": [],
   "source": [
    "quiz_df.to_csv(\"Mahabharat_quiz.csv\", index=False)"
   ]
  },
  {
   "cell_type": "code",
   "execution_count": null,
   "metadata": {},
   "outputs": [],
   "source": []
  }
 ],
 "metadata": {
  "kernelspec": {
   "display_name": "Python 3",
   "language": "python",
   "name": "python3"
  },
  "language_info": {
   "codemirror_mode": {
    "name": "ipython",
    "version": 3
   },
   "file_extension": ".py",
   "mimetype": "text/x-python",
   "name": "python",
   "nbconvert_exporter": "python",
   "pygments_lexer": "ipython3",
   "version": "3.10.0"
  }
 },
 "nbformat": 4,
 "nbformat_minor": 2
}
